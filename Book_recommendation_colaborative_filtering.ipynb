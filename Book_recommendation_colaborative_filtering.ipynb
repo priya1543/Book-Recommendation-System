{
  "nbformat": 4,
  "nbformat_minor": 0,
  "metadata": {
    "colab": {
      "provenance": []
    },
    "kernelspec": {
      "name": "python3",
      "display_name": "Python 3"
    },
    "language_info": {
      "name": "python"
    }
  },
  "cells": [
    {
      "cell_type": "code",
      "source": [
        "import warnings\n",
        "warnings.filterwarnings(\"ignore\")"
      ],
      "metadata": {
        "id": "vWRfCdU0lDmR"
      },
      "execution_count": null,
      "outputs": []
    },
    {
      "cell_type": "code",
      "source": [
        "from google.colab import drive"
      ],
      "metadata": {
        "id": "7gzxGOtalOVo"
      },
      "execution_count": null,
      "outputs": []
    },
    {
      "cell_type": "code",
      "source": [
        "drive.mount('/content/gdrive')"
      ],
      "metadata": {
        "colab": {
          "base_uri": "https://localhost:8080/"
        },
        "id": "p4JqCDrulYO8",
        "outputId": "c8b99de0-a926-4bef-e64d-e72af2aec3f0"
      },
      "execution_count": null,
      "outputs": [
        {
          "output_type": "stream",
          "name": "stdout",
          "text": [
            "Mounted at /content/gdrive\n"
          ]
        }
      ]
    },
    {
      "cell_type": "code",
      "source": [
        "cd /content/gdrive/My Drive/Book recommendations/"
      ],
      "metadata": {
        "colab": {
          "base_uri": "https://localhost:8080/"
        },
        "id": "Sil1KfRWljDE",
        "outputId": "b4419bb5-7d88-4e1c-a8f4-643d9c76ff41"
      },
      "execution_count": null,
      "outputs": [
        {
          "output_type": "stream",
          "name": "stdout",
          "text": [
            "/content/gdrive/My Drive/Book recommendations\n"
          ]
        }
      ]
    },
    {
      "cell_type": "markdown",
      "source": [
        "**Finding users with similar interest**"
      ],
      "metadata": {
        "id": "r1Tw8_dgWLV6"
      }
    },
    {
      "cell_type": "code",
      "execution_count": null,
      "metadata": {
        "id": "9mLY0z0pWtnT",
        "colab": {
          "base_uri": "https://localhost:8080/",
          "height": 206
        },
        "outputId": "bc63bfb6-2c34-41a7-dece-1a853f55da47"
      },
      "outputs": [
        {
          "output_type": "execute_result",
          "data": {
            "text/plain": [
              "   user_id   book_id  rating  \\\n",
              "0       -1   2517439       5   \n",
              "1       -1    113576       5   \n",
              "2       -1     35100       5   \n",
              "3       -1    228221       5   \n",
              "5       -1  17662739       5   \n",
              "\n",
              "                                               title  \n",
              "0             The Forever War  (The Forever War, #1)  \n",
              "1  The Smartest Guys in the Room: The Amazing Ris...  \n",
              "2                              Battle Cry of Freedom  \n",
              "3                                The Mask of Command  \n",
              "5         2001: A Space Odyssey  (Space Odyssey, #1)  "
            ],
            "text/html": [
              "\n",
              "  <div id=\"df-c80220a2-a8b5-4fdb-9b04-26027616b428\">\n",
              "    <div class=\"colab-df-container\">\n",
              "      <div>\n",
              "<style scoped>\n",
              "    .dataframe tbody tr th:only-of-type {\n",
              "        vertical-align: middle;\n",
              "    }\n",
              "\n",
              "    .dataframe tbody tr th {\n",
              "        vertical-align: top;\n",
              "    }\n",
              "\n",
              "    .dataframe thead th {\n",
              "        text-align: right;\n",
              "    }\n",
              "</style>\n",
              "<table border=\"1\" class=\"dataframe\">\n",
              "  <thead>\n",
              "    <tr style=\"text-align: right;\">\n",
              "      <th></th>\n",
              "      <th>user_id</th>\n",
              "      <th>book_id</th>\n",
              "      <th>rating</th>\n",
              "      <th>title</th>\n",
              "    </tr>\n",
              "  </thead>\n",
              "  <tbody>\n",
              "    <tr>\n",
              "      <th>0</th>\n",
              "      <td>-1</td>\n",
              "      <td>2517439</td>\n",
              "      <td>5</td>\n",
              "      <td>The Forever War  (The Forever War, #1)</td>\n",
              "    </tr>\n",
              "    <tr>\n",
              "      <th>1</th>\n",
              "      <td>-1</td>\n",
              "      <td>113576</td>\n",
              "      <td>5</td>\n",
              "      <td>The Smartest Guys in the Room: The Amazing Ris...</td>\n",
              "    </tr>\n",
              "    <tr>\n",
              "      <th>2</th>\n",
              "      <td>-1</td>\n",
              "      <td>35100</td>\n",
              "      <td>5</td>\n",
              "      <td>Battle Cry of Freedom</td>\n",
              "    </tr>\n",
              "    <tr>\n",
              "      <th>3</th>\n",
              "      <td>-1</td>\n",
              "      <td>228221</td>\n",
              "      <td>5</td>\n",
              "      <td>The Mask of Command</td>\n",
              "    </tr>\n",
              "    <tr>\n",
              "      <th>5</th>\n",
              "      <td>-1</td>\n",
              "      <td>17662739</td>\n",
              "      <td>5</td>\n",
              "      <td>2001: A Space Odyssey  (Space Odyssey, #1)</td>\n",
              "    </tr>\n",
              "  </tbody>\n",
              "</table>\n",
              "</div>\n",
              "      <button class=\"colab-df-convert\" onclick=\"convertToInteractive('df-c80220a2-a8b5-4fdb-9b04-26027616b428')\"\n",
              "              title=\"Convert this dataframe to an interactive table.\"\n",
              "              style=\"display:none;\">\n",
              "        \n",
              "  <svg xmlns=\"http://www.w3.org/2000/svg\" height=\"24px\"viewBox=\"0 0 24 24\"\n",
              "       width=\"24px\">\n",
              "    <path d=\"M0 0h24v24H0V0z\" fill=\"none\"/>\n",
              "    <path d=\"M18.56 5.44l.94 2.06.94-2.06 2.06-.94-2.06-.94-.94-2.06-.94 2.06-2.06.94zm-11 1L8.5 8.5l.94-2.06 2.06-.94-2.06-.94L8.5 2.5l-.94 2.06-2.06.94zm10 10l.94 2.06.94-2.06 2.06-.94-2.06-.94-.94-2.06-.94 2.06-2.06.94z\"/><path d=\"M17.41 7.96l-1.37-1.37c-.4-.4-.92-.59-1.43-.59-.52 0-1.04.2-1.43.59L10.3 9.45l-7.72 7.72c-.78.78-.78 2.05 0 2.83L4 21.41c.39.39.9.59 1.41.59.51 0 1.02-.2 1.41-.59l7.78-7.78 2.81-2.81c.8-.78.8-2.07 0-2.86zM5.41 20L4 18.59l7.72-7.72 1.47 1.35L5.41 20z\"/>\n",
              "  </svg>\n",
              "      </button>\n",
              "      \n",
              "  <style>\n",
              "    .colab-df-container {\n",
              "      display:flex;\n",
              "      flex-wrap:wrap;\n",
              "      gap: 12px;\n",
              "    }\n",
              "\n",
              "    .colab-df-convert {\n",
              "      background-color: #E8F0FE;\n",
              "      border: none;\n",
              "      border-radius: 50%;\n",
              "      cursor: pointer;\n",
              "      display: none;\n",
              "      fill: #1967D2;\n",
              "      height: 32px;\n",
              "      padding: 0 0 0 0;\n",
              "      width: 32px;\n",
              "    }\n",
              "\n",
              "    .colab-df-convert:hover {\n",
              "      background-color: #E2EBFA;\n",
              "      box-shadow: 0px 1px 2px rgba(60, 64, 67, 0.3), 0px 1px 3px 1px rgba(60, 64, 67, 0.15);\n",
              "      fill: #174EA6;\n",
              "    }\n",
              "\n",
              "    [theme=dark] .colab-df-convert {\n",
              "      background-color: #3B4455;\n",
              "      fill: #D2E3FC;\n",
              "    }\n",
              "\n",
              "    [theme=dark] .colab-df-convert:hover {\n",
              "      background-color: #434B5C;\n",
              "      box-shadow: 0px 1px 3px 1px rgba(0, 0, 0, 0.15);\n",
              "      filter: drop-shadow(0px 1px 2px rgba(0, 0, 0, 0.3));\n",
              "      fill: #FFFFFF;\n",
              "    }\n",
              "  </style>\n",
              "\n",
              "      <script>\n",
              "        const buttonEl =\n",
              "          document.querySelector('#df-c80220a2-a8b5-4fdb-9b04-26027616b428 button.colab-df-convert');\n",
              "        buttonEl.style.display =\n",
              "          google.colab.kernel.accessAllowed ? 'block' : 'none';\n",
              "\n",
              "        async function convertToInteractive(key) {\n",
              "          const element = document.querySelector('#df-c80220a2-a8b5-4fdb-9b04-26027616b428');\n",
              "          const dataTable =\n",
              "            await google.colab.kernel.invokeFunction('convertToInteractive',\n",
              "                                                     [key], {});\n",
              "          if (!dataTable) return;\n",
              "\n",
              "          const docLinkHtml = 'Like what you see? Visit the ' +\n",
              "            '<a target=\"_blank\" href=https://colab.research.google.com/notebooks/data_table.ipynb>data table notebook</a>'\n",
              "            + ' to learn more about interactive tables.';\n",
              "          element.innerHTML = '';\n",
              "          dataTable['output_type'] = 'display_data';\n",
              "          await google.colab.output.renderOutput(dataTable, element);\n",
              "          const docLink = document.createElement('div');\n",
              "          docLink.innerHTML = docLinkHtml;\n",
              "          element.appendChild(docLink);\n",
              "        }\n",
              "      </script>\n",
              "    </div>\n",
              "  </div>\n",
              "  "
            ]
          },
          "metadata": {},
          "execution_count": 27
        }
      ],
      "source": [
        "import pandas as pd\n",
        "mybooks=pd.read_csv(\"liked_book1.csv\",index_col=0)\n",
        "mybooks[\"book_id\"]=mybooks[\"book_id\"].astype(str)\n",
        "mybooks.head()"
      ]
    },
    {
      "cell_type": "code",
      "source": [
        "!head book_id_map.csv"
      ],
      "metadata": {
        "colab": {
          "base_uri": "https://localhost:8080/"
        },
        "id": "7oqxP7XZobfe",
        "outputId": "614c1fd5-dd2c-47f9-f37a-db44360197d7"
      },
      "execution_count": null,
      "outputs": [
        {
          "output_type": "stream",
          "name": "stdout",
          "text": [
            "book_id_csv,book_id\n",
            "0,34684622\n",
            "1,34536488\n",
            "2,34017076\n",
            "3,71730\n",
            "4,30422361\n",
            "5,33503613\n",
            "6,33517540\n",
            "7,34467031\n",
            "8,6383669\n"
          ]
        }
      ]
    },
    {
      "cell_type": "code",
      "source": [
        "csv_book_mapping={}\n",
        "\n",
        "#the book id in json file, and book id in interactions csv are different, and so we have a mapping file\n",
        "with open(\"book_id_map.csv\",'r') as f:\n",
        "  while True:\n",
        "    line=f.readline()\n",
        "    if not line:\n",
        "      break\n",
        "    csv_id,book_id=line.strip().split(\",\")\n",
        "    csv_book_mapping[csv_id]=book_id\n",
        "    #storing the id's in dictionary format"
      ],
      "metadata": {
        "id": "WVkGFA_zltfz"
      },
      "execution_count": null,
      "outputs": []
    },
    {
      "cell_type": "code",
      "source": [
        "book_set=set(mybooks[\"book_id\"])\n",
        "#converting it set for easy search"
      ],
      "metadata": {
        "id": "kHiR95Curmun"
      },
      "execution_count": null,
      "outputs": []
    },
    {
      "cell_type": "code",
      "source": [
        "!wc -l goodreads_interactions.csv"
      ],
      "metadata": {
        "colab": {
          "base_uri": "https://localhost:8080/"
        },
        "id": "pNk3Z6JytEhe",
        "outputId": "69b3c3cf-2bd9-40a5-8d3a-854ec0422229"
      },
      "execution_count": null,
      "outputs": [
        {
          "output_type": "stream",
          "name": "stdout",
          "text": [
            "228648343 goodreads_interactions.csv\n"
          ]
        }
      ]
    },
    {
      "cell_type": "code",
      "source": [
        "overlap_users={}\n",
        "#key: user id, value: no. of times the user read a book that is in our list\n",
        "\n",
        "with open(\"goodreads_interactions.csv\") as f:\n",
        "  while True:\n",
        "      line=f.readline()\n",
        "      if not line:\n",
        "        break\n",
        "\n",
        "      user_id, csv_id, _, rating, _ = line.strip().split(\",\")\n",
        "      # _ - doesn't care about the variable\n",
        "      book_id =csv_book_mapping.get(csv_id)\n",
        "      #print(book_id)\n",
        "      #map it with csv id to get the correct book id in json file\n",
        "      if book_id in book_set:\n",
        "        if user_id not in overlap_users:\n",
        "          overlap_users[user_id]=1\n",
        "        else:\n",
        "          overlap_users[user_id]+=1\n"
      ],
      "metadata": {
        "id": "OBLTPplDs16S"
      },
      "execution_count": null,
      "outputs": []
    },
    {
      "cell_type": "code",
      "source": [
        "len(overlap_users)"
      ],
      "metadata": {
        "colab": {
          "base_uri": "https://localhost:8080/"
        },
        "id": "VCdoBFP8Klfa",
        "outputId": "ed714fb4-5eae-4a6d-cdbe-6427e86bb8a4"
      },
      "execution_count": null,
      "outputs": [
        {
          "output_type": "execute_result",
          "data": {
            "text/plain": [
              "316341"
            ]
          },
          "metadata": {},
          "execution_count": 32
        }
      ]
    },
    {
      "cell_type": "code",
      "source": [
        "filtered_overlap_users=set([k for k in overlap_users if overlap_users[k]>mybooks.shape[0]/5])\n",
        "#filters only users who have read atleast 20% the no. of books that we have in our list"
      ],
      "metadata": {
        "id": "FrkImLF2LfVP"
      },
      "execution_count": null,
      "outputs": []
    },
    {
      "cell_type": "code",
      "source": [
        "len(filtered_overlap_users)"
      ],
      "metadata": {
        "colab": {
          "base_uri": "https://localhost:8080/"
        },
        "id": "6zmBuYj8Ny2O",
        "outputId": "6db23924-9ef5-461a-a3b7-7278a1ec280a"
      },
      "execution_count": null,
      "outputs": [
        {
          "output_type": "execute_result",
          "data": {
            "text/plain": [
              "1258"
            ]
          },
          "metadata": {},
          "execution_count": 34
        }
      ]
    },
    {
      "cell_type": "code",
      "source": [
        "interactions_list=[]\n",
        "#will obtain bookid, rating, and userid for the users in the filtered list\n",
        "\n",
        "with open(\"goodreads_interactions.csv\") as f:\n",
        "  while True:\n",
        "    line = f.readline()\n",
        "    if not line:\n",
        "      break\n",
        "    user_id,csv_id,_,rating,_=line.strip().split(\",\")\n",
        "    if user_id in filtered_overlap_users:\n",
        "      book_id=csv_book_mapping[csv_id]\n",
        "      interactions_list.append([user_id,book_id, rating])"
      ],
      "metadata": {
        "id": "1GkHmKiOU_mv"
      },
      "execution_count": null,
      "outputs": []
    },
    {
      "cell_type": "code",
      "source": [
        "len(interactions_list)"
      ],
      "metadata": {
        "colab": {
          "base_uri": "https://localhost:8080/"
        },
        "id": "Rg6PyiVxXuG9",
        "outputId": "ca068955-7e38-424e-ca20-3228ee906b03"
      },
      "execution_count": null,
      "outputs": [
        {
          "output_type": "execute_result",
          "data": {
            "text/plain": [
              "5638701"
            ]
          },
          "metadata": {},
          "execution_count": 37
        }
      ]
    },
    {
      "cell_type": "markdown",
      "source": [
        "**Generating user/book matrix**"
      ],
      "metadata": {
        "id": "_5ck3Ut9WR4j"
      }
    },
    {
      "cell_type": "markdown",
      "source": [
        "*Every row of matrix- different user, every column- different book, and cells- ratings that the user gave to that particular book*"
      ],
      "metadata": {
        "id": "DIKyNl7_Whpe"
      }
    },
    {
      "cell_type": "code",
      "source": [
        "interactions_list[0]"
      ],
      "metadata": {
        "colab": {
          "base_uri": "https://localhost:8080/"
        },
        "id": "NGd7_xz6WVxt",
        "outputId": "50f2609b-52b8-4131-963e-44941119e6bf"
      },
      "execution_count": null,
      "outputs": [
        {
          "output_type": "execute_result",
          "data": {
            "text/plain": [
              "['282', '627206', '4']"
            ]
          },
          "metadata": {},
          "execution_count": 39
        }
      ]
    },
    {
      "cell_type": "code",
      "source": [
        "interactions=pd.DataFrame(interactions_list, columns=[\"user_id\",\"book_id\",\"rating\"])"
      ],
      "metadata": {
        "id": "6JCRSnH8X3nn"
      },
      "execution_count": null,
      "outputs": []
    },
    {
      "cell_type": "code",
      "source": [
        "interactions=pd.concat([mybooks[[\"user_id\",\"book_id\",\"rating\"]],interactions])"
      ],
      "metadata": {
        "id": "FsYSxxSxYVfM"
      },
      "execution_count": null,
      "outputs": []
    },
    {
      "cell_type": "code",
      "source": [
        "interactions[\"book_id\"]=interactions[\"book_id\"].astype(str)\n",
        "interactions[\"user_id\"]=interactions[\"user_id\"].astype(str)\n",
        "interactions[\"rating\"]=pd.to_numeric(interactions[\"rating\"])"
      ],
      "metadata": {
        "id": "d1zbxmBcYj2n"
      },
      "execution_count": null,
      "outputs": []
    },
    {
      "cell_type": "code",
      "source": [
        "interactions[\"user_id\"].unique()"
      ],
      "metadata": {
        "colab": {
          "base_uri": "https://localhost:8080/"
        },
        "id": "iGpVtUY6Y6d5",
        "outputId": "a92f79f3-d328-4e0a-cd02-b63502eae437"
      },
      "execution_count": null,
      "outputs": [
        {
          "output_type": "execute_result",
          "data": {
            "text/plain": [
              "array(['-1', '282', '874', ..., '442043', '712588', '804100'],\n",
              "      dtype=object)"
            ]
          },
          "metadata": {},
          "execution_count": 44
        }
      ]
    },
    {
      "cell_type": "code",
      "source": [
        "interactions[\"user_index\"]=interactions[\"user_id\"].astype(\"category\").cat.codes\n",
        "interactions[\"user_index\"].unique()"
      ],
      "metadata": {
        "colab": {
          "base_uri": "https://localhost:8080/"
        },
        "id": "qI7CUgSVZF1y",
        "outputId": "25d8aa4e-0d44-4ae2-ed74-0bcb56f6fb56"
      },
      "execution_count": null,
      "outputs": [
        {
          "output_type": "execute_result",
          "data": {
            "text/plain": [
              "array([   0,  555, 1216, ..., 1054, 1143, 1183], dtype=int16)"
            ]
          },
          "metadata": {},
          "execution_count": 45
        }
      ]
    },
    {
      "cell_type": "code",
      "source": [
        "interactions[\"book_index\"]=interactions[\"book_id\"].astype(\"category\").cat.codes\n",
        "interactions[\"book_index\"].unique()"
      ],
      "metadata": {
        "colab": {
          "base_uri": "https://localhost:8080/"
        },
        "id": "RoReje0Scjne",
        "outputId": "c6432f94-f2f5-45cf-a9ce-3a0645e6fa44"
      },
      "execution_count": null,
      "outputs": [
        {
          "output_type": "execute_result",
          "data": {
            "text/plain": [
              "array([414880,  38971, 575858, ..., 759827, 631564, 552277], dtype=int32)"
            ]
          },
          "metadata": {},
          "execution_count": 46
        }
      ]
    },
    {
      "cell_type": "code",
      "source": [
        "from scipy.sparse import coo_matrix\n",
        "#sparse matrix inorder to save memory\n",
        "\n",
        "ratings_mat_coo=coo_matrix((interactions[\"rating\"],(interactions[\"user_index\"], interactions[\"book_index\"])))\n",
        "ratings_mat_coo"
      ],
      "metadata": {
        "colab": {
          "base_uri": "https://localhost:8080/"
        },
        "id": "9TEjxVRWcpZc",
        "outputId": "b5780df4-7930-4b22-fda3-40fb1cf1fd32"
      },
      "execution_count": null,
      "outputs": [
        {
          "output_type": "execute_result",
          "data": {
            "text/plain": [
              "<1259x802870 sparse matrix of type '<class 'numpy.int64'>'\n",
              "\twith 5638728 stored elements in COOrdinate format>"
            ]
          },
          "metadata": {},
          "execution_count": 48
        }
      ]
    },
    {
      "cell_type": "code",
      "source": [
        "ratings_mat=ratings_mat_coo.tocsr()\n",
        "#converting it to csr format of sparse matrix for easy access"
      ],
      "metadata": {
        "id": "vN7jE7mAeoD_"
      },
      "execution_count": null,
      "outputs": []
    },
    {
      "cell_type": "code",
      "source": [
        "interactions[interactions[\"user_id\"]==\"-1\"]\n",
        "#to find the user_index of us"
      ],
      "metadata": {
        "colab": {
          "base_uri": "https://localhost:8080/",
          "height": 896
        },
        "id": "N6t41erJe0Uh",
        "outputId": "774dd18c-a0a8-487c-a59b-b2a05b2f8db1"
      },
      "execution_count": null,
      "outputs": [
        {
          "output_type": "execute_result",
          "data": {
            "text/plain": [
              "    user_id   book_id  rating  user_index  book_index\n",
              "0        -1   2517439       5           0      414880\n",
              "1        -1    113576       5           0       38971\n",
              "2        -1     35100       5           0      575858\n",
              "3        -1    228221       5           0      356004\n",
              "5        -1  17662739       5           0      214285\n",
              "6        -1    356824       5           0      581743\n",
              "7        -1  12125412       5           0       59763\n",
              "8        -1    139069       5           0      124430\n",
              "10       -1     76680       5           0      722098\n",
              "11       -1      1898       5           0      276178\n",
              "12       -1   5096865       5           0      625929\n",
              "13       -1    228665       5           0      357774\n",
              "17       -1    437143       5           0      607659\n",
              "18       -1  18949861       5           0      275433\n",
              "19       -1   2913377       5           0      496223\n",
              "20       -1   1215032       5           0       60398\n",
              "21       -1    883438       5           0      767233\n",
              "22       -1   5578108       5           0      637486\n",
              "23       -1    128029       5           0       78172\n",
              "24       -1     77203       5           0      724379\n",
              "25       -1      5439       5           0      633999\n",
              "26       -1   1685995       5           0      188133\n",
              "27       -1   6448772       5           0      671711\n",
              "527      -1   8161140       1           0      742532\n",
              "528      -1     28187       1           0      480322\n",
              "531      -1  25659450       1           0      431105\n",
              "532      -1     82599       1           0      746448"
            ],
            "text/html": [
              "\n",
              "  <div id=\"df-da043230-5d8a-4427-a356-8ccd1a33c8ca\">\n",
              "    <div class=\"colab-df-container\">\n",
              "      <div>\n",
              "<style scoped>\n",
              "    .dataframe tbody tr th:only-of-type {\n",
              "        vertical-align: middle;\n",
              "    }\n",
              "\n",
              "    .dataframe tbody tr th {\n",
              "        vertical-align: top;\n",
              "    }\n",
              "\n",
              "    .dataframe thead th {\n",
              "        text-align: right;\n",
              "    }\n",
              "</style>\n",
              "<table border=\"1\" class=\"dataframe\">\n",
              "  <thead>\n",
              "    <tr style=\"text-align: right;\">\n",
              "      <th></th>\n",
              "      <th>user_id</th>\n",
              "      <th>book_id</th>\n",
              "      <th>rating</th>\n",
              "      <th>user_index</th>\n",
              "      <th>book_index</th>\n",
              "    </tr>\n",
              "  </thead>\n",
              "  <tbody>\n",
              "    <tr>\n",
              "      <th>0</th>\n",
              "      <td>-1</td>\n",
              "      <td>2517439</td>\n",
              "      <td>5</td>\n",
              "      <td>0</td>\n",
              "      <td>414880</td>\n",
              "    </tr>\n",
              "    <tr>\n",
              "      <th>1</th>\n",
              "      <td>-1</td>\n",
              "      <td>113576</td>\n",
              "      <td>5</td>\n",
              "      <td>0</td>\n",
              "      <td>38971</td>\n",
              "    </tr>\n",
              "    <tr>\n",
              "      <th>2</th>\n",
              "      <td>-1</td>\n",
              "      <td>35100</td>\n",
              "      <td>5</td>\n",
              "      <td>0</td>\n",
              "      <td>575858</td>\n",
              "    </tr>\n",
              "    <tr>\n",
              "      <th>3</th>\n",
              "      <td>-1</td>\n",
              "      <td>228221</td>\n",
              "      <td>5</td>\n",
              "      <td>0</td>\n",
              "      <td>356004</td>\n",
              "    </tr>\n",
              "    <tr>\n",
              "      <th>5</th>\n",
              "      <td>-1</td>\n",
              "      <td>17662739</td>\n",
              "      <td>5</td>\n",
              "      <td>0</td>\n",
              "      <td>214285</td>\n",
              "    </tr>\n",
              "    <tr>\n",
              "      <th>6</th>\n",
              "      <td>-1</td>\n",
              "      <td>356824</td>\n",
              "      <td>5</td>\n",
              "      <td>0</td>\n",
              "      <td>581743</td>\n",
              "    </tr>\n",
              "    <tr>\n",
              "      <th>7</th>\n",
              "      <td>-1</td>\n",
              "      <td>12125412</td>\n",
              "      <td>5</td>\n",
              "      <td>0</td>\n",
              "      <td>59763</td>\n",
              "    </tr>\n",
              "    <tr>\n",
              "      <th>8</th>\n",
              "      <td>-1</td>\n",
              "      <td>139069</td>\n",
              "      <td>5</td>\n",
              "      <td>0</td>\n",
              "      <td>124430</td>\n",
              "    </tr>\n",
              "    <tr>\n",
              "      <th>10</th>\n",
              "      <td>-1</td>\n",
              "      <td>76680</td>\n",
              "      <td>5</td>\n",
              "      <td>0</td>\n",
              "      <td>722098</td>\n",
              "    </tr>\n",
              "    <tr>\n",
              "      <th>11</th>\n",
              "      <td>-1</td>\n",
              "      <td>1898</td>\n",
              "      <td>5</td>\n",
              "      <td>0</td>\n",
              "      <td>276178</td>\n",
              "    </tr>\n",
              "    <tr>\n",
              "      <th>12</th>\n",
              "      <td>-1</td>\n",
              "      <td>5096865</td>\n",
              "      <td>5</td>\n",
              "      <td>0</td>\n",
              "      <td>625929</td>\n",
              "    </tr>\n",
              "    <tr>\n",
              "      <th>13</th>\n",
              "      <td>-1</td>\n",
              "      <td>228665</td>\n",
              "      <td>5</td>\n",
              "      <td>0</td>\n",
              "      <td>357774</td>\n",
              "    </tr>\n",
              "    <tr>\n",
              "      <th>17</th>\n",
              "      <td>-1</td>\n",
              "      <td>437143</td>\n",
              "      <td>5</td>\n",
              "      <td>0</td>\n",
              "      <td>607659</td>\n",
              "    </tr>\n",
              "    <tr>\n",
              "      <th>18</th>\n",
              "      <td>-1</td>\n",
              "      <td>18949861</td>\n",
              "      <td>5</td>\n",
              "      <td>0</td>\n",
              "      <td>275433</td>\n",
              "    </tr>\n",
              "    <tr>\n",
              "      <th>19</th>\n",
              "      <td>-1</td>\n",
              "      <td>2913377</td>\n",
              "      <td>5</td>\n",
              "      <td>0</td>\n",
              "      <td>496223</td>\n",
              "    </tr>\n",
              "    <tr>\n",
              "      <th>20</th>\n",
              "      <td>-1</td>\n",
              "      <td>1215032</td>\n",
              "      <td>5</td>\n",
              "      <td>0</td>\n",
              "      <td>60398</td>\n",
              "    </tr>\n",
              "    <tr>\n",
              "      <th>21</th>\n",
              "      <td>-1</td>\n",
              "      <td>883438</td>\n",
              "      <td>5</td>\n",
              "      <td>0</td>\n",
              "      <td>767233</td>\n",
              "    </tr>\n",
              "    <tr>\n",
              "      <th>22</th>\n",
              "      <td>-1</td>\n",
              "      <td>5578108</td>\n",
              "      <td>5</td>\n",
              "      <td>0</td>\n",
              "      <td>637486</td>\n",
              "    </tr>\n",
              "    <tr>\n",
              "      <th>23</th>\n",
              "      <td>-1</td>\n",
              "      <td>128029</td>\n",
              "      <td>5</td>\n",
              "      <td>0</td>\n",
              "      <td>78172</td>\n",
              "    </tr>\n",
              "    <tr>\n",
              "      <th>24</th>\n",
              "      <td>-1</td>\n",
              "      <td>77203</td>\n",
              "      <td>5</td>\n",
              "      <td>0</td>\n",
              "      <td>724379</td>\n",
              "    </tr>\n",
              "    <tr>\n",
              "      <th>25</th>\n",
              "      <td>-1</td>\n",
              "      <td>5439</td>\n",
              "      <td>5</td>\n",
              "      <td>0</td>\n",
              "      <td>633999</td>\n",
              "    </tr>\n",
              "    <tr>\n",
              "      <th>26</th>\n",
              "      <td>-1</td>\n",
              "      <td>1685995</td>\n",
              "      <td>5</td>\n",
              "      <td>0</td>\n",
              "      <td>188133</td>\n",
              "    </tr>\n",
              "    <tr>\n",
              "      <th>27</th>\n",
              "      <td>-1</td>\n",
              "      <td>6448772</td>\n",
              "      <td>5</td>\n",
              "      <td>0</td>\n",
              "      <td>671711</td>\n",
              "    </tr>\n",
              "    <tr>\n",
              "      <th>527</th>\n",
              "      <td>-1</td>\n",
              "      <td>8161140</td>\n",
              "      <td>1</td>\n",
              "      <td>0</td>\n",
              "      <td>742532</td>\n",
              "    </tr>\n",
              "    <tr>\n",
              "      <th>528</th>\n",
              "      <td>-1</td>\n",
              "      <td>28187</td>\n",
              "      <td>1</td>\n",
              "      <td>0</td>\n",
              "      <td>480322</td>\n",
              "    </tr>\n",
              "    <tr>\n",
              "      <th>531</th>\n",
              "      <td>-1</td>\n",
              "      <td>25659450</td>\n",
              "      <td>1</td>\n",
              "      <td>0</td>\n",
              "      <td>431105</td>\n",
              "    </tr>\n",
              "    <tr>\n",
              "      <th>532</th>\n",
              "      <td>-1</td>\n",
              "      <td>82599</td>\n",
              "      <td>1</td>\n",
              "      <td>0</td>\n",
              "      <td>746448</td>\n",
              "    </tr>\n",
              "  </tbody>\n",
              "</table>\n",
              "</div>\n",
              "      <button class=\"colab-df-convert\" onclick=\"convertToInteractive('df-da043230-5d8a-4427-a356-8ccd1a33c8ca')\"\n",
              "              title=\"Convert this dataframe to an interactive table.\"\n",
              "              style=\"display:none;\">\n",
              "        \n",
              "  <svg xmlns=\"http://www.w3.org/2000/svg\" height=\"24px\"viewBox=\"0 0 24 24\"\n",
              "       width=\"24px\">\n",
              "    <path d=\"M0 0h24v24H0V0z\" fill=\"none\"/>\n",
              "    <path d=\"M18.56 5.44l.94 2.06.94-2.06 2.06-.94-2.06-.94-.94-2.06-.94 2.06-2.06.94zm-11 1L8.5 8.5l.94-2.06 2.06-.94-2.06-.94L8.5 2.5l-.94 2.06-2.06.94zm10 10l.94 2.06.94-2.06 2.06-.94-2.06-.94-.94-2.06-.94 2.06-2.06.94z\"/><path d=\"M17.41 7.96l-1.37-1.37c-.4-.4-.92-.59-1.43-.59-.52 0-1.04.2-1.43.59L10.3 9.45l-7.72 7.72c-.78.78-.78 2.05 0 2.83L4 21.41c.39.39.9.59 1.41.59.51 0 1.02-.2 1.41-.59l7.78-7.78 2.81-2.81c.8-.78.8-2.07 0-2.86zM5.41 20L4 18.59l7.72-7.72 1.47 1.35L5.41 20z\"/>\n",
              "  </svg>\n",
              "      </button>\n",
              "      \n",
              "  <style>\n",
              "    .colab-df-container {\n",
              "      display:flex;\n",
              "      flex-wrap:wrap;\n",
              "      gap: 12px;\n",
              "    }\n",
              "\n",
              "    .colab-df-convert {\n",
              "      background-color: #E8F0FE;\n",
              "      border: none;\n",
              "      border-radius: 50%;\n",
              "      cursor: pointer;\n",
              "      display: none;\n",
              "      fill: #1967D2;\n",
              "      height: 32px;\n",
              "      padding: 0 0 0 0;\n",
              "      width: 32px;\n",
              "    }\n",
              "\n",
              "    .colab-df-convert:hover {\n",
              "      background-color: #E2EBFA;\n",
              "      box-shadow: 0px 1px 2px rgba(60, 64, 67, 0.3), 0px 1px 3px 1px rgba(60, 64, 67, 0.15);\n",
              "      fill: #174EA6;\n",
              "    }\n",
              "\n",
              "    [theme=dark] .colab-df-convert {\n",
              "      background-color: #3B4455;\n",
              "      fill: #D2E3FC;\n",
              "    }\n",
              "\n",
              "    [theme=dark] .colab-df-convert:hover {\n",
              "      background-color: #434B5C;\n",
              "      box-shadow: 0px 1px 3px 1px rgba(0, 0, 0, 0.15);\n",
              "      filter: drop-shadow(0px 1px 2px rgba(0, 0, 0, 0.3));\n",
              "      fill: #FFFFFF;\n",
              "    }\n",
              "  </style>\n",
              "\n",
              "      <script>\n",
              "        const buttonEl =\n",
              "          document.querySelector('#df-da043230-5d8a-4427-a356-8ccd1a33c8ca button.colab-df-convert');\n",
              "        buttonEl.style.display =\n",
              "          google.colab.kernel.accessAllowed ? 'block' : 'none';\n",
              "\n",
              "        async function convertToInteractive(key) {\n",
              "          const element = document.querySelector('#df-da043230-5d8a-4427-a356-8ccd1a33c8ca');\n",
              "          const dataTable =\n",
              "            await google.colab.kernel.invokeFunction('convertToInteractive',\n",
              "                                                     [key], {});\n",
              "          if (!dataTable) return;\n",
              "\n",
              "          const docLinkHtml = 'Like what you see? Visit the ' +\n",
              "            '<a target=\"_blank\" href=https://colab.research.google.com/notebooks/data_table.ipynb>data table notebook</a>'\n",
              "            + ' to learn more about interactive tables.';\n",
              "          element.innerHTML = '';\n",
              "          dataTable['output_type'] = 'display_data';\n",
              "          await google.colab.output.renderOutput(dataTable, element);\n",
              "          const docLink = document.createElement('div');\n",
              "          docLink.innerHTML = docLinkHtml;\n",
              "          element.appendChild(docLink);\n",
              "        }\n",
              "      </script>\n",
              "    </div>\n",
              "  </div>\n",
              "  "
            ]
          },
          "metadata": {},
          "execution_count": 51
        }
      ]
    },
    {
      "cell_type": "code",
      "source": [
        "my_index=0"
      ],
      "metadata": {
        "id": "FiHiciuGfiMb"
      },
      "execution_count": null,
      "outputs": []
    },
    {
      "cell_type": "code",
      "source": [
        "#Finding cosine similarity between two rows,(user(us), and other users) inorder to find which users have more similarity with us\n",
        "from sklearn.metrics.pairwise import cosine_similarity\n",
        "similarity =cosine_similarity(ratings_mat[my_index,:],ratings_mat).flatten()"
      ],
      "metadata": {
        "id": "YibE2OFYftIJ"
      },
      "execution_count": null,
      "outputs": []
    },
    {
      "cell_type": "code",
      "source": [
        "import numpy as np\n",
        "indices=np.argpartition(similarity,-10)[-10:]\n",
        "#find positions of users with more similarity(top 10)"
      ],
      "metadata": {
        "id": "8r3GCeXzgJZL"
      },
      "execution_count": null,
      "outputs": []
    },
    {
      "cell_type": "code",
      "source": [
        "similar_users=interactions[interactions[\"user_index\"].isin(indices)].copy()"
      ],
      "metadata": {
        "id": "oixwVAC-gcmd"
      },
      "execution_count": null,
      "outputs": []
    },
    {
      "cell_type": "code",
      "source": [
        "similar_users=similar_users[similar_users[\"user_id\"]!=\"-1\"]"
      ],
      "metadata": {
        "id": "9U0qutSdgqlT"
      },
      "execution_count": null,
      "outputs": []
    },
    {
      "cell_type": "code",
      "source": [
        "similar_users"
      ],
      "metadata": {
        "colab": {
          "base_uri": "https://localhost:8080/",
          "height": 423
        },
        "id": "qPdVzOnHgxrJ",
        "outputId": "2a3868ff-6655-4bc0-e3a3-605ab465cdde"
      },
      "execution_count": null,
      "outputs": [
        {
          "output_type": "execute_result",
          "data": {
            "text/plain": [
              "        user_id   book_id  rating  user_index  book_index\n",
              "74831      8640    105576       3        1210       15819\n",
              "74832      8640     78982       5        1210      731940\n",
              "74833      8640   6969361       3        1210      697632\n",
              "74834      8640    105578       1        1210       15828\n",
              "74835      8640     18490       4        1210      254449\n",
              "...         ...       ...     ...         ...         ...\n",
              "5638521  712588  32388712       3        1143      543119\n",
              "5638522  712588     16322       5        1143      183365\n",
              "5638523  712588    860543       0        1143      759827\n",
              "5638524  712588    853510       5        1143      756768\n",
              "5638525  712588     13890       4        1143      124251\n",
              "\n",
              "[2851 rows x 5 columns]"
            ],
            "text/html": [
              "\n",
              "  <div id=\"df-fe43ce5f-0b8e-4f21-bd2d-3b81dcd535c4\">\n",
              "    <div class=\"colab-df-container\">\n",
              "      <div>\n",
              "<style scoped>\n",
              "    .dataframe tbody tr th:only-of-type {\n",
              "        vertical-align: middle;\n",
              "    }\n",
              "\n",
              "    .dataframe tbody tr th {\n",
              "        vertical-align: top;\n",
              "    }\n",
              "\n",
              "    .dataframe thead th {\n",
              "        text-align: right;\n",
              "    }\n",
              "</style>\n",
              "<table border=\"1\" class=\"dataframe\">\n",
              "  <thead>\n",
              "    <tr style=\"text-align: right;\">\n",
              "      <th></th>\n",
              "      <th>user_id</th>\n",
              "      <th>book_id</th>\n",
              "      <th>rating</th>\n",
              "      <th>user_index</th>\n",
              "      <th>book_index</th>\n",
              "    </tr>\n",
              "  </thead>\n",
              "  <tbody>\n",
              "    <tr>\n",
              "      <th>74831</th>\n",
              "      <td>8640</td>\n",
              "      <td>105576</td>\n",
              "      <td>3</td>\n",
              "      <td>1210</td>\n",
              "      <td>15819</td>\n",
              "    </tr>\n",
              "    <tr>\n",
              "      <th>74832</th>\n",
              "      <td>8640</td>\n",
              "      <td>78982</td>\n",
              "      <td>5</td>\n",
              "      <td>1210</td>\n",
              "      <td>731940</td>\n",
              "    </tr>\n",
              "    <tr>\n",
              "      <th>74833</th>\n",
              "      <td>8640</td>\n",
              "      <td>6969361</td>\n",
              "      <td>3</td>\n",
              "      <td>1210</td>\n",
              "      <td>697632</td>\n",
              "    </tr>\n",
              "    <tr>\n",
              "      <th>74834</th>\n",
              "      <td>8640</td>\n",
              "      <td>105578</td>\n",
              "      <td>1</td>\n",
              "      <td>1210</td>\n",
              "      <td>15828</td>\n",
              "    </tr>\n",
              "    <tr>\n",
              "      <th>74835</th>\n",
              "      <td>8640</td>\n",
              "      <td>18490</td>\n",
              "      <td>4</td>\n",
              "      <td>1210</td>\n",
              "      <td>254449</td>\n",
              "    </tr>\n",
              "    <tr>\n",
              "      <th>...</th>\n",
              "      <td>...</td>\n",
              "      <td>...</td>\n",
              "      <td>...</td>\n",
              "      <td>...</td>\n",
              "      <td>...</td>\n",
              "    </tr>\n",
              "    <tr>\n",
              "      <th>5638521</th>\n",
              "      <td>712588</td>\n",
              "      <td>32388712</td>\n",
              "      <td>3</td>\n",
              "      <td>1143</td>\n",
              "      <td>543119</td>\n",
              "    </tr>\n",
              "    <tr>\n",
              "      <th>5638522</th>\n",
              "      <td>712588</td>\n",
              "      <td>16322</td>\n",
              "      <td>5</td>\n",
              "      <td>1143</td>\n",
              "      <td>183365</td>\n",
              "    </tr>\n",
              "    <tr>\n",
              "      <th>5638523</th>\n",
              "      <td>712588</td>\n",
              "      <td>860543</td>\n",
              "      <td>0</td>\n",
              "      <td>1143</td>\n",
              "      <td>759827</td>\n",
              "    </tr>\n",
              "    <tr>\n",
              "      <th>5638524</th>\n",
              "      <td>712588</td>\n",
              "      <td>853510</td>\n",
              "      <td>5</td>\n",
              "      <td>1143</td>\n",
              "      <td>756768</td>\n",
              "    </tr>\n",
              "    <tr>\n",
              "      <th>5638525</th>\n",
              "      <td>712588</td>\n",
              "      <td>13890</td>\n",
              "      <td>4</td>\n",
              "      <td>1143</td>\n",
              "      <td>124251</td>\n",
              "    </tr>\n",
              "  </tbody>\n",
              "</table>\n",
              "<p>2851 rows × 5 columns</p>\n",
              "</div>\n",
              "      <button class=\"colab-df-convert\" onclick=\"convertToInteractive('df-fe43ce5f-0b8e-4f21-bd2d-3b81dcd535c4')\"\n",
              "              title=\"Convert this dataframe to an interactive table.\"\n",
              "              style=\"display:none;\">\n",
              "        \n",
              "  <svg xmlns=\"http://www.w3.org/2000/svg\" height=\"24px\"viewBox=\"0 0 24 24\"\n",
              "       width=\"24px\">\n",
              "    <path d=\"M0 0h24v24H0V0z\" fill=\"none\"/>\n",
              "    <path d=\"M18.56 5.44l.94 2.06.94-2.06 2.06-.94-2.06-.94-.94-2.06-.94 2.06-2.06.94zm-11 1L8.5 8.5l.94-2.06 2.06-.94-2.06-.94L8.5 2.5l-.94 2.06-2.06.94zm10 10l.94 2.06.94-2.06 2.06-.94-2.06-.94-.94-2.06-.94 2.06-2.06.94z\"/><path d=\"M17.41 7.96l-1.37-1.37c-.4-.4-.92-.59-1.43-.59-.52 0-1.04.2-1.43.59L10.3 9.45l-7.72 7.72c-.78.78-.78 2.05 0 2.83L4 21.41c.39.39.9.59 1.41.59.51 0 1.02-.2 1.41-.59l7.78-7.78 2.81-2.81c.8-.78.8-2.07 0-2.86zM5.41 20L4 18.59l7.72-7.72 1.47 1.35L5.41 20z\"/>\n",
              "  </svg>\n",
              "      </button>\n",
              "      \n",
              "  <style>\n",
              "    .colab-df-container {\n",
              "      display:flex;\n",
              "      flex-wrap:wrap;\n",
              "      gap: 12px;\n",
              "    }\n",
              "\n",
              "    .colab-df-convert {\n",
              "      background-color: #E8F0FE;\n",
              "      border: none;\n",
              "      border-radius: 50%;\n",
              "      cursor: pointer;\n",
              "      display: none;\n",
              "      fill: #1967D2;\n",
              "      height: 32px;\n",
              "      padding: 0 0 0 0;\n",
              "      width: 32px;\n",
              "    }\n",
              "\n",
              "    .colab-df-convert:hover {\n",
              "      background-color: #E2EBFA;\n",
              "      box-shadow: 0px 1px 2px rgba(60, 64, 67, 0.3), 0px 1px 3px 1px rgba(60, 64, 67, 0.15);\n",
              "      fill: #174EA6;\n",
              "    }\n",
              "\n",
              "    [theme=dark] .colab-df-convert {\n",
              "      background-color: #3B4455;\n",
              "      fill: #D2E3FC;\n",
              "    }\n",
              "\n",
              "    [theme=dark] .colab-df-convert:hover {\n",
              "      background-color: #434B5C;\n",
              "      box-shadow: 0px 1px 3px 1px rgba(0, 0, 0, 0.15);\n",
              "      filter: drop-shadow(0px 1px 2px rgba(0, 0, 0, 0.3));\n",
              "      fill: #FFFFFF;\n",
              "    }\n",
              "  </style>\n",
              "\n",
              "      <script>\n",
              "        const buttonEl =\n",
              "          document.querySelector('#df-fe43ce5f-0b8e-4f21-bd2d-3b81dcd535c4 button.colab-df-convert');\n",
              "        buttonEl.style.display =\n",
              "          google.colab.kernel.accessAllowed ? 'block' : 'none';\n",
              "\n",
              "        async function convertToInteractive(key) {\n",
              "          const element = document.querySelector('#df-fe43ce5f-0b8e-4f21-bd2d-3b81dcd535c4');\n",
              "          const dataTable =\n",
              "            await google.colab.kernel.invokeFunction('convertToInteractive',\n",
              "                                                     [key], {});\n",
              "          if (!dataTable) return;\n",
              "\n",
              "          const docLinkHtml = 'Like what you see? Visit the ' +\n",
              "            '<a target=\"_blank\" href=https://colab.research.google.com/notebooks/data_table.ipynb>data table notebook</a>'\n",
              "            + ' to learn more about interactive tables.';\n",
              "          element.innerHTML = '';\n",
              "          dataTable['output_type'] = 'display_data';\n",
              "          await google.colab.output.renderOutput(dataTable, element);\n",
              "          const docLink = document.createElement('div');\n",
              "          docLink.innerHTML = docLinkHtml;\n",
              "          element.appendChild(docLink);\n",
              "        }\n",
              "      </script>\n",
              "    </div>\n",
              "  </div>\n",
              "  "
            ]
          },
          "metadata": {},
          "execution_count": 59
        }
      ]
    },
    {
      "cell_type": "code",
      "source": [
        "book_recs=similar_users.groupby(\"book_id\").rating.agg(['count','mean'])\n",
        "book_recs"
      ],
      "metadata": {
        "colab": {
          "base_uri": "https://localhost:8080/",
          "height": 455
        },
        "id": "vu6ZbR3gg0jK",
        "outputId": "226212f0-b5f4-4eb3-9fb9-65488112a9e8"
      },
      "execution_count": null,
      "outputs": [
        {
          "output_type": "execute_result",
          "data": {
            "text/plain": [
              "          count  mean\n",
              "book_id              \n",
              "1             4  3.25\n",
              "100322        1  0.00\n",
              "100365        1  0.00\n",
              "10046142      1  0.00\n",
              "1005          3  0.00\n",
              "...         ...   ...\n",
              "9951089       1  0.00\n",
              "99561         2  2.50\n",
              "99664         1  4.00\n",
              "9969571       2  2.00\n",
              "99944         1  0.00\n",
              "\n",
              "[1978 rows x 2 columns]"
            ],
            "text/html": [
              "\n",
              "  <div id=\"df-91fbc0bb-6389-4de2-acfc-3dcfcc8f29ba\">\n",
              "    <div class=\"colab-df-container\">\n",
              "      <div>\n",
              "<style scoped>\n",
              "    .dataframe tbody tr th:only-of-type {\n",
              "        vertical-align: middle;\n",
              "    }\n",
              "\n",
              "    .dataframe tbody tr th {\n",
              "        vertical-align: top;\n",
              "    }\n",
              "\n",
              "    .dataframe thead th {\n",
              "        text-align: right;\n",
              "    }\n",
              "</style>\n",
              "<table border=\"1\" class=\"dataframe\">\n",
              "  <thead>\n",
              "    <tr style=\"text-align: right;\">\n",
              "      <th></th>\n",
              "      <th>count</th>\n",
              "      <th>mean</th>\n",
              "    </tr>\n",
              "    <tr>\n",
              "      <th>book_id</th>\n",
              "      <th></th>\n",
              "      <th></th>\n",
              "    </tr>\n",
              "  </thead>\n",
              "  <tbody>\n",
              "    <tr>\n",
              "      <th>1</th>\n",
              "      <td>4</td>\n",
              "      <td>3.25</td>\n",
              "    </tr>\n",
              "    <tr>\n",
              "      <th>100322</th>\n",
              "      <td>1</td>\n",
              "      <td>0.00</td>\n",
              "    </tr>\n",
              "    <tr>\n",
              "      <th>100365</th>\n",
              "      <td>1</td>\n",
              "      <td>0.00</td>\n",
              "    </tr>\n",
              "    <tr>\n",
              "      <th>10046142</th>\n",
              "      <td>1</td>\n",
              "      <td>0.00</td>\n",
              "    </tr>\n",
              "    <tr>\n",
              "      <th>1005</th>\n",
              "      <td>3</td>\n",
              "      <td>0.00</td>\n",
              "    </tr>\n",
              "    <tr>\n",
              "      <th>...</th>\n",
              "      <td>...</td>\n",
              "      <td>...</td>\n",
              "    </tr>\n",
              "    <tr>\n",
              "      <th>9951089</th>\n",
              "      <td>1</td>\n",
              "      <td>0.00</td>\n",
              "    </tr>\n",
              "    <tr>\n",
              "      <th>99561</th>\n",
              "      <td>2</td>\n",
              "      <td>2.50</td>\n",
              "    </tr>\n",
              "    <tr>\n",
              "      <th>99664</th>\n",
              "      <td>1</td>\n",
              "      <td>4.00</td>\n",
              "    </tr>\n",
              "    <tr>\n",
              "      <th>9969571</th>\n",
              "      <td>2</td>\n",
              "      <td>2.00</td>\n",
              "    </tr>\n",
              "    <tr>\n",
              "      <th>99944</th>\n",
              "      <td>1</td>\n",
              "      <td>0.00</td>\n",
              "    </tr>\n",
              "  </tbody>\n",
              "</table>\n",
              "<p>1978 rows × 2 columns</p>\n",
              "</div>\n",
              "      <button class=\"colab-df-convert\" onclick=\"convertToInteractive('df-91fbc0bb-6389-4de2-acfc-3dcfcc8f29ba')\"\n",
              "              title=\"Convert this dataframe to an interactive table.\"\n",
              "              style=\"display:none;\">\n",
              "        \n",
              "  <svg xmlns=\"http://www.w3.org/2000/svg\" height=\"24px\"viewBox=\"0 0 24 24\"\n",
              "       width=\"24px\">\n",
              "    <path d=\"M0 0h24v24H0V0z\" fill=\"none\"/>\n",
              "    <path d=\"M18.56 5.44l.94 2.06.94-2.06 2.06-.94-2.06-.94-.94-2.06-.94 2.06-2.06.94zm-11 1L8.5 8.5l.94-2.06 2.06-.94-2.06-.94L8.5 2.5l-.94 2.06-2.06.94zm10 10l.94 2.06.94-2.06 2.06-.94-2.06-.94-.94-2.06-.94 2.06-2.06.94z\"/><path d=\"M17.41 7.96l-1.37-1.37c-.4-.4-.92-.59-1.43-.59-.52 0-1.04.2-1.43.59L10.3 9.45l-7.72 7.72c-.78.78-.78 2.05 0 2.83L4 21.41c.39.39.9.59 1.41.59.51 0 1.02-.2 1.41-.59l7.78-7.78 2.81-2.81c.8-.78.8-2.07 0-2.86zM5.41 20L4 18.59l7.72-7.72 1.47 1.35L5.41 20z\"/>\n",
              "  </svg>\n",
              "      </button>\n",
              "      \n",
              "  <style>\n",
              "    .colab-df-container {\n",
              "      display:flex;\n",
              "      flex-wrap:wrap;\n",
              "      gap: 12px;\n",
              "    }\n",
              "\n",
              "    .colab-df-convert {\n",
              "      background-color: #E8F0FE;\n",
              "      border: none;\n",
              "      border-radius: 50%;\n",
              "      cursor: pointer;\n",
              "      display: none;\n",
              "      fill: #1967D2;\n",
              "      height: 32px;\n",
              "      padding: 0 0 0 0;\n",
              "      width: 32px;\n",
              "    }\n",
              "\n",
              "    .colab-df-convert:hover {\n",
              "      background-color: #E2EBFA;\n",
              "      box-shadow: 0px 1px 2px rgba(60, 64, 67, 0.3), 0px 1px 3px 1px rgba(60, 64, 67, 0.15);\n",
              "      fill: #174EA6;\n",
              "    }\n",
              "\n",
              "    [theme=dark] .colab-df-convert {\n",
              "      background-color: #3B4455;\n",
              "      fill: #D2E3FC;\n",
              "    }\n",
              "\n",
              "    [theme=dark] .colab-df-convert:hover {\n",
              "      background-color: #434B5C;\n",
              "      box-shadow: 0px 1px 3px 1px rgba(0, 0, 0, 0.15);\n",
              "      filter: drop-shadow(0px 1px 2px rgba(0, 0, 0, 0.3));\n",
              "      fill: #FFFFFF;\n",
              "    }\n",
              "  </style>\n",
              "\n",
              "      <script>\n",
              "        const buttonEl =\n",
              "          document.querySelector('#df-91fbc0bb-6389-4de2-acfc-3dcfcc8f29ba button.colab-df-convert');\n",
              "        buttonEl.style.display =\n",
              "          google.colab.kernel.accessAllowed ? 'block' : 'none';\n",
              "\n",
              "        async function convertToInteractive(key) {\n",
              "          const element = document.querySelector('#df-91fbc0bb-6389-4de2-acfc-3dcfcc8f29ba');\n",
              "          const dataTable =\n",
              "            await google.colab.kernel.invokeFunction('convertToInteractive',\n",
              "                                                     [key], {});\n",
              "          if (!dataTable) return;\n",
              "\n",
              "          const docLinkHtml = 'Like what you see? Visit the ' +\n",
              "            '<a target=\"_blank\" href=https://colab.research.google.com/notebooks/data_table.ipynb>data table notebook</a>'\n",
              "            + ' to learn more about interactive tables.';\n",
              "          element.innerHTML = '';\n",
              "          dataTable['output_type'] = 'display_data';\n",
              "          await google.colab.output.renderOutput(dataTable, element);\n",
              "          const docLink = document.createElement('div');\n",
              "          docLink.innerHTML = docLinkHtml;\n",
              "          element.appendChild(docLink);\n",
              "        }\n",
              "      </script>\n",
              "    </div>\n",
              "  </div>\n",
              "  "
            ]
          },
          "metadata": {},
          "execution_count": 61
        }
      ]
    },
    {
      "cell_type": "markdown",
      "source": [
        "**Generating recommendations**"
      ],
      "metadata": {
        "id": "oJhKKzOxl2bW"
      }
    },
    {
      "cell_type": "code",
      "source": [
        "book_titles=pd.read_json(\"book_titles.json\")\n",
        "book_titles[\"book_id\"]=book_titles[\"book_id\"].astype(str)"
      ],
      "metadata": {
        "id": "HTpfgFfmhRHr"
      },
      "execution_count": null,
      "outputs": []
    },
    {
      "cell_type": "code",
      "source": [
        "book_recs=book_recs.merge(book_titles,how=\"inner\",on=\"book_id\")"
      ],
      "metadata": {
        "id": "fgBTAdNNiCIg"
      },
      "execution_count": null,
      "outputs": []
    },
    {
      "cell_type": "code",
      "source": [
        "book_recs"
      ],
      "metadata": {
        "colab": {
          "base_uri": "https://localhost:8080/",
          "height": 641
        },
        "id": "4fO9sQ3XiVsr",
        "outputId": "815ab9f3-2624-43b4-de06-664797e8a746"
      },
      "execution_count": null,
      "outputs": [
        {
          "output_type": "execute_result",
          "data": {
            "text/plain": [
              "       book_id  count  mean  \\\n",
              "0            1      4  3.25   \n",
              "1       100322      1  0.00   \n",
              "2       100365      1  0.00   \n",
              "3     10046142      1  0.00   \n",
              "4         1005      3  0.00   \n",
              "...        ...    ...   ...   \n",
              "1961   9951089      1  0.00   \n",
              "1962     99561      2  2.50   \n",
              "1963     99664      1  4.00   \n",
              "1964   9969571      2  2.00   \n",
              "1965     99944      1  0.00   \n",
              "\n",
              "                                                  title  ratings  \\\n",
              "0     Harry Potter and the Half-Blood Prince (Harry ...  1713866   \n",
              "1                              Assata: An Autobiography    11057   \n",
              "2                                 The Mote in God's Eye    48736   \n",
              "3     Dancing in the Glory of Monsters: The Collapse...     2391   \n",
              "4                                   Think and Grow Rich    87634   \n",
              "...                                                 ...      ...   \n",
              "1961  Truth, Beauty, and Goodness Reframed: Educatin...      115   \n",
              "1962                                 Looking for Alaska   804587   \n",
              "1963                                   The Painted Veil    24606   \n",
              "1964                                   Ready Player One   376328   \n",
              "1965                                  The Bhagavad Gita    33855   \n",
              "\n",
              "                                                    url  \\\n",
              "0     https://www.goodreads.com/book/show/1.Harry_Po...   \n",
              "1     https://www.goodreads.com/book/show/100322.Assata   \n",
              "2     https://www.goodreads.com/book/show/100365.The...   \n",
              "3     https://www.goodreads.com/book/show/10046142-d...   \n",
              "4     https://www.goodreads.com/book/show/1005.Think...   \n",
              "...                                                 ...   \n",
              "1961  https://www.goodreads.com/book/show/9951089-tr...   \n",
              "1962  https://www.goodreads.com/book/show/99561.Look...   \n",
              "1963  https://www.goodreads.com/book/show/99664.The_...   \n",
              "1964  https://www.goodreads.com/book/show/9969571-re...   \n",
              "1965  https://www.goodreads.com/book/show/99944.The_...   \n",
              "\n",
              "                                            cover_image  \\\n",
              "0     https://images.gr-assets.com/books/1361039191m...   \n",
              "1     https://images.gr-assets.com/books/1328857268m...   \n",
              "2     https://images.gr-assets.com/books/1399490037m...   \n",
              "3     https://images.gr-assets.com/books/1328757755m...   \n",
              "4     https://s.gr-assets.com/assets/nophoto/book/11...   \n",
              "...                                                 ...   \n",
              "1961  https://images.gr-assets.com/books/1328841809m...   \n",
              "1962  https://images.gr-assets.com/books/1394798630m...   \n",
              "1963  https://images.gr-assets.com/books/1320421719m...   \n",
              "1964  https://images.gr-assets.com/books/1500930947m...   \n",
              "1965  https://images.gr-assets.com/books/1383059639m...   \n",
              "\n",
              "                                              mod_title  \n",
              "0     harry potter and the halfblood prince harry po...  \n",
              "1                               assata an autobiography  \n",
              "2                                  the mote in gods eye  \n",
              "3     dancing in the glory of monsters the collapse ...  \n",
              "4                                   think and grow rich  \n",
              "...                                                 ...  \n",
              "1961  truth beauty and goodness reframed educating f...  \n",
              "1962                                 looking for alaska  \n",
              "1963                                   the painted veil  \n",
              "1964                                   ready player one  \n",
              "1965                                  the bhagavad gita  \n",
              "\n",
              "[1966 rows x 8 columns]"
            ],
            "text/html": [
              "\n",
              "  <div id=\"df-5cb1ce7c-e302-493a-a0e4-31c19c92afca\">\n",
              "    <div class=\"colab-df-container\">\n",
              "      <div>\n",
              "<style scoped>\n",
              "    .dataframe tbody tr th:only-of-type {\n",
              "        vertical-align: middle;\n",
              "    }\n",
              "\n",
              "    .dataframe tbody tr th {\n",
              "        vertical-align: top;\n",
              "    }\n",
              "\n",
              "    .dataframe thead th {\n",
              "        text-align: right;\n",
              "    }\n",
              "</style>\n",
              "<table border=\"1\" class=\"dataframe\">\n",
              "  <thead>\n",
              "    <tr style=\"text-align: right;\">\n",
              "      <th></th>\n",
              "      <th>book_id</th>\n",
              "      <th>count</th>\n",
              "      <th>mean</th>\n",
              "      <th>title</th>\n",
              "      <th>ratings</th>\n",
              "      <th>url</th>\n",
              "      <th>cover_image</th>\n",
              "      <th>mod_title</th>\n",
              "    </tr>\n",
              "  </thead>\n",
              "  <tbody>\n",
              "    <tr>\n",
              "      <th>0</th>\n",
              "      <td>1</td>\n",
              "      <td>4</td>\n",
              "      <td>3.25</td>\n",
              "      <td>Harry Potter and the Half-Blood Prince (Harry ...</td>\n",
              "      <td>1713866</td>\n",
              "      <td>https://www.goodreads.com/book/show/1.Harry_Po...</td>\n",
              "      <td>https://images.gr-assets.com/books/1361039191m...</td>\n",
              "      <td>harry potter and the halfblood prince harry po...</td>\n",
              "    </tr>\n",
              "    <tr>\n",
              "      <th>1</th>\n",
              "      <td>100322</td>\n",
              "      <td>1</td>\n",
              "      <td>0.00</td>\n",
              "      <td>Assata: An Autobiography</td>\n",
              "      <td>11057</td>\n",
              "      <td>https://www.goodreads.com/book/show/100322.Assata</td>\n",
              "      <td>https://images.gr-assets.com/books/1328857268m...</td>\n",
              "      <td>assata an autobiography</td>\n",
              "    </tr>\n",
              "    <tr>\n",
              "      <th>2</th>\n",
              "      <td>100365</td>\n",
              "      <td>1</td>\n",
              "      <td>0.00</td>\n",
              "      <td>The Mote in God's Eye</td>\n",
              "      <td>48736</td>\n",
              "      <td>https://www.goodreads.com/book/show/100365.The...</td>\n",
              "      <td>https://images.gr-assets.com/books/1399490037m...</td>\n",
              "      <td>the mote in gods eye</td>\n",
              "    </tr>\n",
              "    <tr>\n",
              "      <th>3</th>\n",
              "      <td>10046142</td>\n",
              "      <td>1</td>\n",
              "      <td>0.00</td>\n",
              "      <td>Dancing in the Glory of Monsters: The Collapse...</td>\n",
              "      <td>2391</td>\n",
              "      <td>https://www.goodreads.com/book/show/10046142-d...</td>\n",
              "      <td>https://images.gr-assets.com/books/1328757755m...</td>\n",
              "      <td>dancing in the glory of monsters the collapse ...</td>\n",
              "    </tr>\n",
              "    <tr>\n",
              "      <th>4</th>\n",
              "      <td>1005</td>\n",
              "      <td>3</td>\n",
              "      <td>0.00</td>\n",
              "      <td>Think and Grow Rich</td>\n",
              "      <td>87634</td>\n",
              "      <td>https://www.goodreads.com/book/show/1005.Think...</td>\n",
              "      <td>https://s.gr-assets.com/assets/nophoto/book/11...</td>\n",
              "      <td>think and grow rich</td>\n",
              "    </tr>\n",
              "    <tr>\n",
              "      <th>...</th>\n",
              "      <td>...</td>\n",
              "      <td>...</td>\n",
              "      <td>...</td>\n",
              "      <td>...</td>\n",
              "      <td>...</td>\n",
              "      <td>...</td>\n",
              "      <td>...</td>\n",
              "      <td>...</td>\n",
              "    </tr>\n",
              "    <tr>\n",
              "      <th>1961</th>\n",
              "      <td>9951089</td>\n",
              "      <td>1</td>\n",
              "      <td>0.00</td>\n",
              "      <td>Truth, Beauty, and Goodness Reframed: Educatin...</td>\n",
              "      <td>115</td>\n",
              "      <td>https://www.goodreads.com/book/show/9951089-tr...</td>\n",
              "      <td>https://images.gr-assets.com/books/1328841809m...</td>\n",
              "      <td>truth beauty and goodness reframed educating f...</td>\n",
              "    </tr>\n",
              "    <tr>\n",
              "      <th>1962</th>\n",
              "      <td>99561</td>\n",
              "      <td>2</td>\n",
              "      <td>2.50</td>\n",
              "      <td>Looking for Alaska</td>\n",
              "      <td>804587</td>\n",
              "      <td>https://www.goodreads.com/book/show/99561.Look...</td>\n",
              "      <td>https://images.gr-assets.com/books/1394798630m...</td>\n",
              "      <td>looking for alaska</td>\n",
              "    </tr>\n",
              "    <tr>\n",
              "      <th>1963</th>\n",
              "      <td>99664</td>\n",
              "      <td>1</td>\n",
              "      <td>4.00</td>\n",
              "      <td>The Painted Veil</td>\n",
              "      <td>24606</td>\n",
              "      <td>https://www.goodreads.com/book/show/99664.The_...</td>\n",
              "      <td>https://images.gr-assets.com/books/1320421719m...</td>\n",
              "      <td>the painted veil</td>\n",
              "    </tr>\n",
              "    <tr>\n",
              "      <th>1964</th>\n",
              "      <td>9969571</td>\n",
              "      <td>2</td>\n",
              "      <td>2.00</td>\n",
              "      <td>Ready Player One</td>\n",
              "      <td>376328</td>\n",
              "      <td>https://www.goodreads.com/book/show/9969571-re...</td>\n",
              "      <td>https://images.gr-assets.com/books/1500930947m...</td>\n",
              "      <td>ready player one</td>\n",
              "    </tr>\n",
              "    <tr>\n",
              "      <th>1965</th>\n",
              "      <td>99944</td>\n",
              "      <td>1</td>\n",
              "      <td>0.00</td>\n",
              "      <td>The Bhagavad Gita</td>\n",
              "      <td>33855</td>\n",
              "      <td>https://www.goodreads.com/book/show/99944.The_...</td>\n",
              "      <td>https://images.gr-assets.com/books/1383059639m...</td>\n",
              "      <td>the bhagavad gita</td>\n",
              "    </tr>\n",
              "  </tbody>\n",
              "</table>\n",
              "<p>1966 rows × 8 columns</p>\n",
              "</div>\n",
              "      <button class=\"colab-df-convert\" onclick=\"convertToInteractive('df-5cb1ce7c-e302-493a-a0e4-31c19c92afca')\"\n",
              "              title=\"Convert this dataframe to an interactive table.\"\n",
              "              style=\"display:none;\">\n",
              "        \n",
              "  <svg xmlns=\"http://www.w3.org/2000/svg\" height=\"24px\"viewBox=\"0 0 24 24\"\n",
              "       width=\"24px\">\n",
              "    <path d=\"M0 0h24v24H0V0z\" fill=\"none\"/>\n",
              "    <path d=\"M18.56 5.44l.94 2.06.94-2.06 2.06-.94-2.06-.94-.94-2.06-.94 2.06-2.06.94zm-11 1L8.5 8.5l.94-2.06 2.06-.94-2.06-.94L8.5 2.5l-.94 2.06-2.06.94zm10 10l.94 2.06.94-2.06 2.06-.94-2.06-.94-.94-2.06-.94 2.06-2.06.94z\"/><path d=\"M17.41 7.96l-1.37-1.37c-.4-.4-.92-.59-1.43-.59-.52 0-1.04.2-1.43.59L10.3 9.45l-7.72 7.72c-.78.78-.78 2.05 0 2.83L4 21.41c.39.39.9.59 1.41.59.51 0 1.02-.2 1.41-.59l7.78-7.78 2.81-2.81c.8-.78.8-2.07 0-2.86zM5.41 20L4 18.59l7.72-7.72 1.47 1.35L5.41 20z\"/>\n",
              "  </svg>\n",
              "      </button>\n",
              "      \n",
              "  <style>\n",
              "    .colab-df-container {\n",
              "      display:flex;\n",
              "      flex-wrap:wrap;\n",
              "      gap: 12px;\n",
              "    }\n",
              "\n",
              "    .colab-df-convert {\n",
              "      background-color: #E8F0FE;\n",
              "      border: none;\n",
              "      border-radius: 50%;\n",
              "      cursor: pointer;\n",
              "      display: none;\n",
              "      fill: #1967D2;\n",
              "      height: 32px;\n",
              "      padding: 0 0 0 0;\n",
              "      width: 32px;\n",
              "    }\n",
              "\n",
              "    .colab-df-convert:hover {\n",
              "      background-color: #E2EBFA;\n",
              "      box-shadow: 0px 1px 2px rgba(60, 64, 67, 0.3), 0px 1px 3px 1px rgba(60, 64, 67, 0.15);\n",
              "      fill: #174EA6;\n",
              "    }\n",
              "\n",
              "    [theme=dark] .colab-df-convert {\n",
              "      background-color: #3B4455;\n",
              "      fill: #D2E3FC;\n",
              "    }\n",
              "\n",
              "    [theme=dark] .colab-df-convert:hover {\n",
              "      background-color: #434B5C;\n",
              "      box-shadow: 0px 1px 3px 1px rgba(0, 0, 0, 0.15);\n",
              "      filter: drop-shadow(0px 1px 2px rgba(0, 0, 0, 0.3));\n",
              "      fill: #FFFFFF;\n",
              "    }\n",
              "  </style>\n",
              "\n",
              "      <script>\n",
              "        const buttonEl =\n",
              "          document.querySelector('#df-5cb1ce7c-e302-493a-a0e4-31c19c92afca button.colab-df-convert');\n",
              "        buttonEl.style.display =\n",
              "          google.colab.kernel.accessAllowed ? 'block' : 'none';\n",
              "\n",
              "        async function convertToInteractive(key) {\n",
              "          const element = document.querySelector('#df-5cb1ce7c-e302-493a-a0e4-31c19c92afca');\n",
              "          const dataTable =\n",
              "            await google.colab.kernel.invokeFunction('convertToInteractive',\n",
              "                                                     [key], {});\n",
              "          if (!dataTable) return;\n",
              "\n",
              "          const docLinkHtml = 'Like what you see? Visit the ' +\n",
              "            '<a target=\"_blank\" href=https://colab.research.google.com/notebooks/data_table.ipynb>data table notebook</a>'\n",
              "            + ' to learn more about interactive tables.';\n",
              "          element.innerHTML = '';\n",
              "          dataTable['output_type'] = 'display_data';\n",
              "          await google.colab.output.renderOutput(dataTable, element);\n",
              "          const docLink = document.createElement('div');\n",
              "          docLink.innerHTML = docLinkHtml;\n",
              "          element.appendChild(docLink);\n",
              "        }\n",
              "      </script>\n",
              "    </div>\n",
              "  </div>\n",
              "  "
            ]
          },
          "metadata": {},
          "execution_count": 65
        }
      ]
    },
    {
      "cell_type": "code",
      "source": [
        "#to find books that are specific to us, that is has a good rating among similar users, but not in the whole goodread users\n",
        "book_recs[\"adjusted_count\"]=book_recs[\"count\"]*(book_recs[\"count\"]/book_recs[\"ratings\"])"
      ],
      "metadata": {
        "id": "4OZaXa58iXS5"
      },
      "execution_count": null,
      "outputs": []
    },
    {
      "cell_type": "code",
      "source": [
        "book_recs[\"score\"]=book_recs[\"mean\"] * book_recs[\"adjusted_count\"]"
      ],
      "metadata": {
        "id": "3ku9Zl4rjBIT"
      },
      "execution_count": null,
      "outputs": []
    },
    {
      "cell_type": "code",
      "source": [
        "#remove books in our liked list\n",
        "book_recs=book_recs[~book_recs[\"book_id\"].isin(mybooks[\"book_id\"])]"
      ],
      "metadata": {
        "id": "p2TSaybVjIi4"
      },
      "execution_count": null,
      "outputs": []
    },
    {
      "cell_type": "code",
      "source": [
        "mybooks[\"mod_title\"]=mybooks[\"title\"].str.replace(\"[^a-zA-Z0-9 ]\",\"\",regex=True)"
      ],
      "metadata": {
        "id": "c_LNpw7_kb_7"
      },
      "execution_count": null,
      "outputs": []
    },
    {
      "cell_type": "code",
      "source": [
        "mybooks[\"mod_title\"]=mybooks[\"mod_title\"].str.lower()"
      ],
      "metadata": {
        "id": "BdIh1zHvk6vW"
      },
      "execution_count": null,
      "outputs": []
    },
    {
      "cell_type": "code",
      "source": [
        "mybooks[\"mod_title\"]=mybooks[\"mod_title\"].str.replace(\"\\s+\",\" \",regex=True)"
      ],
      "metadata": {
        "id": "Nsc2stfajb8C"
      },
      "execution_count": null,
      "outputs": []
    },
    {
      "cell_type": "code",
      "source": [
        "book_recs=book_recs[~book_recs[\"mod_title\"].isin(mybooks[\"mod_title\"])]"
      ],
      "metadata": {
        "id": "LUpKH9G_lPvh"
      },
      "execution_count": null,
      "outputs": []
    },
    {
      "cell_type": "code",
      "source": [
        "book_recs=book_recs[book_recs[\"count\"]>2]"
      ],
      "metadata": {
        "id": "uMvKJjC1lZYm"
      },
      "execution_count": null,
      "outputs": []
    },
    {
      "cell_type": "code",
      "source": [
        "book_recs=book_recs[book_recs[\"mean\"]>3.5]"
      ],
      "metadata": {
        "id": "5H1Mvybnlfdg"
      },
      "execution_count": null,
      "outputs": []
    },
    {
      "cell_type": "code",
      "source": [
        "top_recs=book_recs.sort_values(\"score\",ascending=False)"
      ],
      "metadata": {
        "id": "H-WnmbYZlGu1"
      },
      "execution_count": null,
      "outputs": []
    },
    {
      "cell_type": "code",
      "source": [
        "top_recs=top_recs.head(10)"
      ],
      "metadata": {
        "id": "eCTzZV53lN4U"
      },
      "execution_count": 90,
      "outputs": []
    },
    {
      "cell_type": "markdown",
      "source": [
        "**Displaying recommendations**"
      ],
      "metadata": {
        "id": "18MAoF0gl8Sj"
      }
    },
    {
      "cell_type": "code",
      "source": [
        "def make_clickable(val):\n",
        "    return '<a target=\"_blank\" href=\"{}\">Goodreads</a>'.format(val, val)\n",
        "\n",
        "def show_image(val):\n",
        "    return '<a href=\"{}\"><img src=\"{}\" width=50></img></a>'.format(val, val)\n",
        "\n",
        "top_recs.style.format({'url': make_clickable, 'cover_image': show_image})"
      ],
      "metadata": {
        "colab": {
          "base_uri": "https://localhost:8080/",
          "height": 705
        },
        "id": "aKTvuEl8l_7g",
        "outputId": "69f3ab66-9353-4fc5-c82f-11288b660c6c"
      },
      "execution_count": 91,
      "outputs": [
        {
          "output_type": "execute_result",
          "data": {
            "text/plain": [
              "<pandas.io.formats.style.Styler at 0x7f8d1fd7f010>"
            ],
            "text/html": [
              "<style type=\"text/css\">\n",
              "</style>\n",
              "<table id=\"T_69eaa\" class=\"dataframe\">\n",
              "  <thead>\n",
              "    <tr>\n",
              "      <th class=\"blank level0\" >&nbsp;</th>\n",
              "      <th id=\"T_69eaa_level0_col0\" class=\"col_heading level0 col0\" >book_id</th>\n",
              "      <th id=\"T_69eaa_level0_col1\" class=\"col_heading level0 col1\" >count</th>\n",
              "      <th id=\"T_69eaa_level0_col2\" class=\"col_heading level0 col2\" >mean</th>\n",
              "      <th id=\"T_69eaa_level0_col3\" class=\"col_heading level0 col3\" >title</th>\n",
              "      <th id=\"T_69eaa_level0_col4\" class=\"col_heading level0 col4\" >ratings</th>\n",
              "      <th id=\"T_69eaa_level0_col5\" class=\"col_heading level0 col5\" >url</th>\n",
              "      <th id=\"T_69eaa_level0_col6\" class=\"col_heading level0 col6\" >cover_image</th>\n",
              "      <th id=\"T_69eaa_level0_col7\" class=\"col_heading level0 col7\" >mod_title</th>\n",
              "      <th id=\"T_69eaa_level0_col8\" class=\"col_heading level0 col8\" >adjusted_count</th>\n",
              "      <th id=\"T_69eaa_level0_col9\" class=\"col_heading level0 col9\" >score</th>\n",
              "    </tr>\n",
              "  </thead>\n",
              "  <tbody>\n",
              "    <tr>\n",
              "      <th id=\"T_69eaa_level0_row0\" class=\"row_heading level0 row0\" >1769</th>\n",
              "      <td id=\"T_69eaa_row0_col0\" class=\"data row0 col0\" >78983</td>\n",
              "      <td id=\"T_69eaa_row0_col1\" class=\"data row0 col1\" >3</td>\n",
              "      <td id=\"T_69eaa_row0_col2\" class=\"data row0 col2\" >4.333333</td>\n",
              "      <td id=\"T_69eaa_row0_col3\" class=\"data row0 col3\" >Kane and Abel (Kane and Abel, #1)</td>\n",
              "      <td id=\"T_69eaa_row0_col4\" class=\"data row0 col4\" >75215</td>\n",
              "      <td id=\"T_69eaa_row0_col5\" class=\"data row0 col5\" ><a target=\"_blank\" href=\"https://www.goodreads.com/book/show/78983.Kane_and_Abel\">Goodreads</a></td>\n",
              "      <td id=\"T_69eaa_row0_col6\" class=\"data row0 col6\" ><a href=\"https://s.gr-assets.com/assets/nophoto/book/111x148-bcc042a9c91a29c1d680899eff700a03.png\"><img src=\"https://s.gr-assets.com/assets/nophoto/book/111x148-bcc042a9c91a29c1d680899eff700a03.png\" width=50></img></a></td>\n",
              "      <td id=\"T_69eaa_row0_col7\" class=\"data row0 col7\" >kane and abel kane and abel 1</td>\n",
              "      <td id=\"T_69eaa_row0_col8\" class=\"data row0 col8\" >0.000120</td>\n",
              "      <td id=\"T_69eaa_row0_col9\" class=\"data row0 col9\" >0.000519</td>\n",
              "    </tr>\n",
              "    <tr>\n",
              "      <th id=\"T_69eaa_level0_row1\" class=\"row_heading level0 row1\" >1917</th>\n",
              "      <td id=\"T_69eaa_row1_col0\" class=\"data row1 col0\" >9539</td>\n",
              "      <td id=\"T_69eaa_row1_col1\" class=\"data row1 col1\" >3</td>\n",
              "      <td id=\"T_69eaa_row1_col2\" class=\"data row1 col2\" >3.666667</td>\n",
              "      <td id=\"T_69eaa_row1_col3\" class=\"data row1 col3\" >The Shadow Rising (Wheel of Time, #4)</td>\n",
              "      <td id=\"T_69eaa_row1_col4\" class=\"data row1 col4\" >124571</td>\n",
              "      <td id=\"T_69eaa_row1_col5\" class=\"data row1 col5\" ><a target=\"_blank\" href=\"https://www.goodreads.com/book/show/9539.The_Shadow_Rising\">Goodreads</a></td>\n",
              "      <td id=\"T_69eaa_row1_col6\" class=\"data row1 col6\" ><a href=\"https://images.gr-assets.com/books/1470841890m/9539.jpg\"><img src=\"https://images.gr-assets.com/books/1470841890m/9539.jpg\" width=50></img></a></td>\n",
              "      <td id=\"T_69eaa_row1_col7\" class=\"data row1 col7\" >the shadow rising wheel of time 4</td>\n",
              "      <td id=\"T_69eaa_row1_col8\" class=\"data row1 col8\" >0.000072</td>\n",
              "      <td id=\"T_69eaa_row1_col9\" class=\"data row1 col9\" >0.000265</td>\n",
              "    </tr>\n",
              "    <tr>\n",
              "      <th id=\"T_69eaa_level0_row2\" class=\"row_heading level0 row2\" >643</th>\n",
              "      <td id=\"T_69eaa_row2_col0\" class=\"data row2 col0\" >19063</td>\n",
              "      <td id=\"T_69eaa_row2_col1\" class=\"data row2 col1\" >8</td>\n",
              "      <td id=\"T_69eaa_row2_col2\" class=\"data row2 col2\" >4.125000</td>\n",
              "      <td id=\"T_69eaa_row2_col3\" class=\"data row2 col3\" >The Book Thief</td>\n",
              "      <td id=\"T_69eaa_row2_col4\" class=\"data row2 col4\" >1193697</td>\n",
              "      <td id=\"T_69eaa_row2_col5\" class=\"data row2 col5\" ><a target=\"_blank\" href=\"https://www.goodreads.com/book/show/19063.The_Book_Thief\">Goodreads</a></td>\n",
              "      <td id=\"T_69eaa_row2_col6\" class=\"data row2 col6\" ><a href=\"https://images.gr-assets.com/books/1390053681m/19063.jpg\"><img src=\"https://images.gr-assets.com/books/1390053681m/19063.jpg\" width=50></img></a></td>\n",
              "      <td id=\"T_69eaa_row2_col7\" class=\"data row2 col7\" >the book thief</td>\n",
              "      <td id=\"T_69eaa_row2_col8\" class=\"data row2 col8\" >0.000054</td>\n",
              "      <td id=\"T_69eaa_row2_col9\" class=\"data row2 col9\" >0.000221</td>\n",
              "    </tr>\n",
              "    <tr>\n",
              "      <th id=\"T_69eaa_level0_row3\" class=\"row_heading level0 row3\" >1143</th>\n",
              "      <td id=\"T_69eaa_row3_col0\" class=\"data row3 col0\" >33</td>\n",
              "      <td id=\"T_69eaa_row3_col1\" class=\"data row3 col1\" >4</td>\n",
              "      <td id=\"T_69eaa_row3_col2\" class=\"data row3 col2\" >4.500000</td>\n",
              "      <td id=\"T_69eaa_row3_col3\" class=\"data row3 col3\" >The Lord of the Rings (The Lord of the Rings, #1-3)</td>\n",
              "      <td id=\"T_69eaa_row3_col4\" class=\"data row3 col4\" >396933</td>\n",
              "      <td id=\"T_69eaa_row3_col5\" class=\"data row3 col5\" ><a target=\"_blank\" href=\"https://www.goodreads.com/book/show/33.The_Lord_of_the_Rings\">Goodreads</a></td>\n",
              "      <td id=\"T_69eaa_row3_col6\" class=\"data row3 col6\" ><a href=\"https://images.gr-assets.com/books/1411114164m/33.jpg\"><img src=\"https://images.gr-assets.com/books/1411114164m/33.jpg\" width=50></img></a></td>\n",
              "      <td id=\"T_69eaa_row3_col7\" class=\"data row3 col7\" >the lord of the rings the lord of the rings 13</td>\n",
              "      <td id=\"T_69eaa_row3_col8\" class=\"data row3 col8\" >0.000040</td>\n",
              "      <td id=\"T_69eaa_row3_col9\" class=\"data row3 col9\" >0.000181</td>\n",
              "    </tr>\n",
              "    <tr>\n",
              "      <th id=\"T_69eaa_level0_row4\" class=\"row_heading level0 row4\" >801</th>\n",
              "      <td id=\"T_69eaa_row4_col0\" class=\"data row4 col0\" >2318271</td>\n",
              "      <td id=\"T_69eaa_row4_col1\" class=\"data row4 col1\" >3</td>\n",
              "      <td id=\"T_69eaa_row4_col2\" class=\"data row4 col2\" >4.333333</td>\n",
              "      <td id=\"T_69eaa_row4_col3\" class=\"data row4 col3\" >The Last Lecture</td>\n",
              "      <td id=\"T_69eaa_row4_col4\" class=\"data row4 col4\" >245804</td>\n",
              "      <td id=\"T_69eaa_row4_col5\" class=\"data row4 col5\" ><a target=\"_blank\" href=\"https://www.goodreads.com/book/show/2318271.The_Last_Lecture\">Goodreads</a></td>\n",
              "      <td id=\"T_69eaa_row4_col6\" class=\"data row4 col6\" ><a href=\"https://images.gr-assets.com/books/1388075896m/2318271.jpg\"><img src=\"https://images.gr-assets.com/books/1388075896m/2318271.jpg\" width=50></img></a></td>\n",
              "      <td id=\"T_69eaa_row4_col7\" class=\"data row4 col7\" >the last lecture</td>\n",
              "      <td id=\"T_69eaa_row4_col8\" class=\"data row4 col8\" >0.000037</td>\n",
              "      <td id=\"T_69eaa_row4_col9\" class=\"data row4 col9\" >0.000159</td>\n",
              "    </tr>\n",
              "    <tr>\n",
              "      <th id=\"T_69eaa_level0_row5\" class=\"row_heading level0 row5\" >1559</th>\n",
              "      <td id=\"T_69eaa_row5_col0\" class=\"data row5 col0\" >62291</td>\n",
              "      <td id=\"T_69eaa_row5_col1\" class=\"data row5 col1\" >3</td>\n",
              "      <td id=\"T_69eaa_row5_col2\" class=\"data row5 col2\" >5.000000</td>\n",
              "      <td id=\"T_69eaa_row5_col3\" class=\"data row5 col3\" >A Storm of Swords (A Song of Ice and Fire, #3)</td>\n",
              "      <td id=\"T_69eaa_row5_col4\" class=\"data row5 col4\" >477834</td>\n",
              "      <td id=\"T_69eaa_row5_col5\" class=\"data row5 col5\" ><a target=\"_blank\" href=\"https://www.goodreads.com/book/show/62291.A_Storm_of_Swords\">Goodreads</a></td>\n",
              "      <td id=\"T_69eaa_row5_col6\" class=\"data row5 col6\" ><a href=\"https://images.gr-assets.com/books/1497931121m/62291.jpg\"><img src=\"https://images.gr-assets.com/books/1497931121m/62291.jpg\" width=50></img></a></td>\n",
              "      <td id=\"T_69eaa_row5_col7\" class=\"data row5 col7\" >a storm of swords a song of ice and fire 3</td>\n",
              "      <td id=\"T_69eaa_row5_col8\" class=\"data row5 col8\" >0.000019</td>\n",
              "      <td id=\"T_69eaa_row5_col9\" class=\"data row5 col9\" >0.000094</td>\n",
              "    </tr>\n",
              "    <tr>\n",
              "      <th id=\"T_69eaa_level0_row6\" class=\"row_heading level0 row6\" >297</th>\n",
              "      <td id=\"T_69eaa_row6_col0\" class=\"data row6 col0\" >136251</td>\n",
              "      <td id=\"T_69eaa_row6_col1\" class=\"data row6 col1\" >4</td>\n",
              "      <td id=\"T_69eaa_row6_col2\" class=\"data row6 col2\" >3.750000</td>\n",
              "      <td id=\"T_69eaa_row6_col3\" class=\"data row6 col3\" >Harry Potter and the Deathly Hallows (Harry Potter, #7)</td>\n",
              "      <td id=\"T_69eaa_row6_col4\" class=\"data row6 col4\" >1784684</td>\n",
              "      <td id=\"T_69eaa_row6_col5\" class=\"data row6 col5\" ><a target=\"_blank\" href=\"https://www.goodreads.com/book/show/136251.Harry_Potter_and_the_Deathly_Hallows\">Goodreads</a></td>\n",
              "      <td id=\"T_69eaa_row6_col6\" class=\"data row6 col6\" ><a href=\"https://images.gr-assets.com/books/1474171184m/136251.jpg\"><img src=\"https://images.gr-assets.com/books/1474171184m/136251.jpg\" width=50></img></a></td>\n",
              "      <td id=\"T_69eaa_row6_col7\" class=\"data row6 col7\" >harry potter and the deathly hallows harry potter 7</td>\n",
              "      <td id=\"T_69eaa_row6_col8\" class=\"data row6 col8\" >0.000009</td>\n",
              "      <td id=\"T_69eaa_row6_col9\" class=\"data row6 col9\" >0.000034</td>\n",
              "    </tr>\n",
              "  </tbody>\n",
              "</table>\n"
            ]
          },
          "metadata": {},
          "execution_count": 91
        }
      ]
    }
  ]
}